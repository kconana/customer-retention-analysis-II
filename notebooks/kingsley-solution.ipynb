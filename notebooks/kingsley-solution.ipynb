{
 "cells": [
  {
   "cell_type": "markdown",
   "id": "a0e70d76-9420-4481-b4c0-6b1084a507ea",
   "metadata": {
    "panel-layout": {
     "height": 51.13750076293945,
     "visible": true,
     "width": 100
    }
   },
   "source": [
    "# Import Libraries"
   ]
  },
  {
   "cell_type": "code",
   "execution_count": 3,
   "id": "b41667bc-bb2c-418f-a898-1df46fd6448b",
   "metadata": {},
   "outputs": [],
   "source": [
    "import pandas as pd\n",
    "import numpy as np\n",
    "import seaborn as sns\n",
    "import matplotlib.pyplot as plt\n",
    "import datetime as dt"
   ]
  },
  {
   "cell_type": "code",
   "execution_count": 4,
   "id": "dd76fbfe-3faa-4e9f-8b71-57e16fda406e",
   "metadata": {
    "panel-layout": {
     "height": 51.13750076293945,
     "visible": true,
     "width": 100
    }
   },
   "outputs": [
    {
     "data": {
      "text/plain": [
       "'C:\\\\Users\\\\kings\\\\Desktop\\\\cohort-analysis\\\\notebooks'"
      ]
     },
     "execution_count": 4,
     "metadata": {},
     "output_type": "execute_result"
    }
   ],
   "source": [
    "import os\n",
    "os.getcwd()"
   ]
  },
  {
   "cell_type": "markdown",
   "id": "ac9180ee-421d-4061-84a6-6e27f6c1780b",
   "metadata": {},
   "source": [
    "# Load Data"
   ]
  },
  {
   "cell_type": "code",
   "execution_count": 6,
   "id": "00b0d475-faa7-4095-b6d5-8086f05abbc4",
   "metadata": {
    "panel-layout": {
     "height": 116.4000015258789,
     "visible": true,
     "width": 100
    }
   },
   "outputs": [
    {
     "data": {
      "text/html": [
       "<div>\n",
       "<style scoped>\n",
       "    .dataframe tbody tr th:only-of-type {\n",
       "        vertical-align: middle;\n",
       "    }\n",
       "\n",
       "    .dataframe tbody tr th {\n",
       "        vertical-align: top;\n",
       "    }\n",
       "\n",
       "    .dataframe thead th {\n",
       "        text-align: right;\n",
       "    }\n",
       "</style>\n",
       "<table border=\"1\" class=\"dataframe\">\n",
       "  <thead>\n",
       "    <tr style=\"text-align: right;\">\n",
       "      <th></th>\n",
       "      <th>InvoiceNo</th>\n",
       "      <th>InvoiceDate</th>\n",
       "      <th>CustomerID</th>\n",
       "      <th>StockCode</th>\n",
       "      <th>Description</th>\n",
       "      <th>Quantity</th>\n",
       "      <th>UnitPrice</th>\n",
       "      <th>Country</th>\n",
       "    </tr>\n",
       "  </thead>\n",
       "  <tbody>\n",
       "    <tr>\n",
       "      <th>0</th>\n",
       "      <td>536365</td>\n",
       "      <td>2010-12-01 08:26:00</td>\n",
       "      <td>17850.0</td>\n",
       "      <td>SC1734</td>\n",
       "      <td>Electronics</td>\n",
       "      <td>65</td>\n",
       "      <td>10.23</td>\n",
       "      <td>Egypt</td>\n",
       "    </tr>\n",
       "    <tr>\n",
       "      <th>1</th>\n",
       "      <td>536365</td>\n",
       "      <td>2010-12-01 08:26:00</td>\n",
       "      <td>17850.0</td>\n",
       "      <td>SC2088</td>\n",
       "      <td>Furniture</td>\n",
       "      <td>95</td>\n",
       "      <td>19.61</td>\n",
       "      <td>Mali</td>\n",
       "    </tr>\n",
       "    <tr>\n",
       "      <th>2</th>\n",
       "      <td>536365</td>\n",
       "      <td>2010-12-01 08:26:00</td>\n",
       "      <td>17850.0</td>\n",
       "      <td>SC3463</td>\n",
       "      <td>Books</td>\n",
       "      <td>78</td>\n",
       "      <td>61.49</td>\n",
       "      <td>Mali</td>\n",
       "    </tr>\n",
       "  </tbody>\n",
       "</table>\n",
       "</div>"
      ],
      "text/plain": [
       "  InvoiceNo          InvoiceDate  CustomerID StockCode  Description  Quantity  \\\n",
       "0    536365  2010-12-01 08:26:00     17850.0    SC1734  Electronics        65   \n",
       "1    536365  2010-12-01 08:26:00     17850.0    SC2088    Furniture        95   \n",
       "2    536365  2010-12-01 08:26:00     17850.0    SC3463        Books        78   \n",
       "\n",
       "   UnitPrice Country  \n",
       "0      10.23   Egypt  \n",
       "1      19.61    Mali  \n",
       "2      61.49    Mali  "
      ]
     },
     "execution_count": 6,
     "metadata": {},
     "output_type": "execute_result"
    }
   ],
   "source": [
    "data = pd.read_csv(\"C:/Users/kings/Desktop/cohort-analysis/data/Dataset_ecommerce.csv\")\n",
    "data.head(3)"
   ]
  },
  {
   "cell_type": "code",
   "execution_count": 7,
   "id": "ee41f2bc-9803-4fba-bd67-e1282c1bd1ae",
   "metadata": {
    "panel-layout": {
     "height": 27.137500762939453,
     "visible": true,
     "width": 100
    }
   },
   "outputs": [
    {
     "data": {
      "text/plain": [
       "100"
      ]
     },
     "execution_count": 7,
     "metadata": {},
     "output_type": "execute_result"
    }
   ],
   "source": [
    "data['Quantity'].max()"
   ]
  },
  {
   "cell_type": "code",
   "execution_count": 8,
   "id": "17f3e525-6e2a-4395-b8e9-d1820a6eba97",
   "metadata": {
    "panel-layout": {
     "height": 27.137500762939453,
     "visible": true,
     "width": 100
    }
   },
   "outputs": [
    {
     "data": {
      "text/plain": [
       "100.0"
      ]
     },
     "execution_count": 8,
     "metadata": {},
     "output_type": "execute_result"
    }
   ],
   "source": [
    "data['UnitPrice'].max()"
   ]
  },
  {
   "cell_type": "markdown",
   "id": "44fb5c77-829f-472b-934f-097ea9c0ffed",
   "metadata": {},
   "source": [
    "# Clean Data"
   ]
  },
  {
   "cell_type": "code",
   "execution_count": 9,
   "id": "e7a3627a-12d4-4190-af16-132dc1b2fdc6",
   "metadata": {
    "panel-layout": {
     "height": 0,
     "visible": true,
     "width": 100
    }
   },
   "outputs": [
    {
     "name": "stdout",
     "output_type": "stream",
     "text": [
      "<class 'pandas.core.frame.DataFrame'>\n",
      "RangeIndex: 541909 entries, 0 to 541908\n",
      "Data columns (total 8 columns):\n",
      " #   Column       Non-Null Count   Dtype  \n",
      "---  ------       --------------   -----  \n",
      " 0   InvoiceNo    541909 non-null  object \n",
      " 1   InvoiceDate  541909 non-null  object \n",
      " 2   CustomerID   406829 non-null  float64\n",
      " 3   StockCode    541909 non-null  object \n",
      " 4   Description  541909 non-null  object \n",
      " 5   Quantity     541909 non-null  int64  \n",
      " 6   UnitPrice    541909 non-null  float64\n",
      " 7   Country      541909 non-null  object \n",
      "dtypes: float64(2), int64(1), object(5)\n",
      "memory usage: 33.1+ MB\n"
     ]
    }
   ],
   "source": [
    "data.info()"
   ]
  },
  {
   "cell_type": "code",
   "execution_count": 40,
   "id": "51285018-c9de-439f-8eae-e84decffe573",
   "metadata": {
    "panel-layout": {
     "height": 169.1999969482422,
     "visible": true,
     "width": 100
    }
   },
   "outputs": [
    {
     "data": {
      "text/html": [
       "<div>\n",
       "<style scoped>\n",
       "    .dataframe tbody tr th:only-of-type {\n",
       "        vertical-align: middle;\n",
       "    }\n",
       "\n",
       "    .dataframe tbody tr th {\n",
       "        vertical-align: top;\n",
       "    }\n",
       "\n",
       "    .dataframe thead th {\n",
       "        text-align: right;\n",
       "    }\n",
       "</style>\n",
       "<table border=\"1\" class=\"dataframe\">\n",
       "  <thead>\n",
       "    <tr style=\"text-align: right;\">\n",
       "      <th></th>\n",
       "      <th>InvoiceNo</th>\n",
       "      <th>InvoiceDate</th>\n",
       "      <th>CustomerID</th>\n",
       "      <th>StockCode</th>\n",
       "      <th>Description</th>\n",
       "      <th>Quantity</th>\n",
       "      <th>UnitPrice</th>\n",
       "      <th>Country</th>\n",
       "    </tr>\n",
       "  </thead>\n",
       "  <tbody>\n",
       "    <tr>\n",
       "      <th>0</th>\n",
       "      <td>536365</td>\n",
       "      <td>2010-12-01 08:26:00</td>\n",
       "      <td>17850.0</td>\n",
       "      <td>SC1734</td>\n",
       "      <td>Electronics</td>\n",
       "      <td>65</td>\n",
       "      <td>10.23</td>\n",
       "      <td>Egypt</td>\n",
       "    </tr>\n",
       "    <tr>\n",
       "      <th>1</th>\n",
       "      <td>536365</td>\n",
       "      <td>2010-12-01 08:26:00</td>\n",
       "      <td>17850.0</td>\n",
       "      <td>SC2088</td>\n",
       "      <td>Furniture</td>\n",
       "      <td>95</td>\n",
       "      <td>19.61</td>\n",
       "      <td>Mali</td>\n",
       "    </tr>\n",
       "    <tr>\n",
       "      <th>2</th>\n",
       "      <td>536365</td>\n",
       "      <td>2010-12-01 08:26:00</td>\n",
       "      <td>17850.0</td>\n",
       "      <td>SC3463</td>\n",
       "      <td>Books</td>\n",
       "      <td>78</td>\n",
       "      <td>61.49</td>\n",
       "      <td>Mali</td>\n",
       "    </tr>\n",
       "  </tbody>\n",
       "</table>\n",
       "</div>"
      ],
      "text/plain": [
       "  InvoiceNo          InvoiceDate  CustomerID StockCode  Description  Quantity  \\\n",
       "0    536365  2010-12-01 08:26:00     17850.0    SC1734  Electronics        65   \n",
       "1    536365  2010-12-01 08:26:00     17850.0    SC2088    Furniture        95   \n",
       "2    536365  2010-12-01 08:26:00     17850.0    SC3463        Books        78   \n",
       "\n",
       "   UnitPrice Country  \n",
       "0      10.23   Egypt  \n",
       "1      19.61    Mali  \n",
       "2      61.49    Mali  "
      ]
     },
     "execution_count": 40,
     "metadata": {},
     "output_type": "execute_result"
    }
   ],
   "source": [
    "#Descriptive Statistics\n",
    "data.describe(include = \"all\")\n",
    "data.head(3)"
   ]
  },
  {
   "cell_type": "code",
   "execution_count": 29,
   "id": "bfbd1760-c086-4a8c-b13a-476b2497810d",
   "metadata": {},
   "outputs": [
    {
     "data": {
      "text/plain": [
       "InvoiceNo           0\n",
       "InvoiceDate         0\n",
       "CustomerID     135080\n",
       "StockCode           0\n",
       "Description         0\n",
       "Quantity            0\n",
       "UnitPrice           0\n",
       "Country             0\n",
       "dtype: int64"
      ]
     },
     "execution_count": 29,
     "metadata": {},
     "output_type": "execute_result"
    }
   ],
   "source": [
    "# Check for Missing values\n",
    "data.isnull().sum()"
   ]
  },
  {
   "cell_type": "code",
   "execution_count": 44,
   "id": "2ae1f9f2-0260-4648-8e6c-0d25d3d3b75a",
   "metadata": {},
   "outputs": [],
   "source": [
    "# Drop missing values\n",
    "data.dropna(inplace = True)"
   ]
  },
  {
   "cell_type": "code",
   "execution_count": 46,
   "id": "8ef0d994-f8a2-4629-a32f-5552edc4f409",
   "metadata": {},
   "outputs": [
    {
     "name": "stdout",
     "output_type": "stream",
     "text": [
      "<class 'pandas.core.frame.DataFrame'>\n",
      "Index: 406829 entries, 0 to 541908\n",
      "Data columns (total 8 columns):\n",
      " #   Column       Non-Null Count   Dtype  \n",
      "---  ------       --------------   -----  \n",
      " 0   InvoiceNo    406829 non-null  object \n",
      " 1   InvoiceDate  406829 non-null  object \n",
      " 2   CustomerID   406829 non-null  float64\n",
      " 3   StockCode    406829 non-null  object \n",
      " 4   Description  406829 non-null  object \n",
      " 5   Quantity     406829 non-null  int64  \n",
      " 6   UnitPrice    406829 non-null  float64\n",
      " 7   Country      406829 non-null  object \n",
      "dtypes: float64(2), int64(1), object(5)\n",
      "memory usage: 27.9+ MB\n"
     ]
    }
   ],
   "source": [
    "# Check for Info on daqtaframe\n",
    "data.info()"
   ]
  },
  {
   "cell_type": "code",
   "execution_count": 54,
   "id": "f2f6ece6-176b-4ed4-93e1-d29cc401388d",
   "metadata": {},
   "outputs": [
    {
     "name": "stdout",
     "output_type": "stream",
     "text": [
      "<class 'pandas.core.frame.DataFrame'>\n",
      "Index: 406829 entries, 0 to 541908\n",
      "Data columns (total 8 columns):\n",
      " #   Column       Non-Null Count   Dtype         \n",
      "---  ------       --------------   -----         \n",
      " 0   InvoiceNo    406829 non-null  object        \n",
      " 1   InvoiceDate  406829 non-null  datetime64[ns]\n",
      " 2   CustomerID   406829 non-null  float64       \n",
      " 3   StockCode    406829 non-null  object        \n",
      " 4   Description  406829 non-null  object        \n",
      " 5   Quantity     406829 non-null  int64         \n",
      " 6   UnitPrice    406829 non-null  float64       \n",
      " 7   Country      406829 non-null  object        \n",
      "dtypes: datetime64[ns](1), float64(2), int64(1), object(4)\n",
      "memory usage: 27.9+ MB\n"
     ]
    }
   ],
   "source": [
    "# Convert InvoiceDate to Datetime format\n",
    "data[\"InvoiceDate\"] = pd.to_datetime(data[\"InvoiceDate\"])\n",
    "data.info()"
   ]
  },
  {
   "cell_type": "markdown",
   "id": "8901f03b-54b3-4f73-b318-62d95e1d2dc5",
   "metadata": {},
   "source": [
    "# Exploratory Data Analysis"
   ]
  }
 ],
 "metadata": {
  "kernelspec": {
   "display_name": "Python [conda env:base] *",
   "language": "python",
   "name": "conda-base-py"
  },
  "language_info": {
   "codemirror_mode": {
    "name": "ipython",
    "version": 3
   },
   "file_extension": ".py",
   "mimetype": "text/x-python",
   "name": "python",
   "nbconvert_exporter": "python",
   "pygments_lexer": "ipython3",
   "version": "3.12.7"
  },
  "panel-cell-order": [
   "b154b62c-9539-46bc-a467-be903562c8bd",
   "dd76fbfe-3faa-4e9f-8b71-57e16fda406e",
   "00b0d475-faa7-4095-b6d5-8086f05abbc4",
   "ee41f2bc-9803-4fba-bd67-e1282c1bd1ae",
   "17f3e525-6e2a-4395-b8e9-d1820a6eba97",
   "e7a3627a-12d4-4190-af16-132dc1b2fdc6",
   "51285018-c9de-439f-8eae-e84decffe573"
  ]
 },
 "nbformat": 4,
 "nbformat_minor": 5
}
